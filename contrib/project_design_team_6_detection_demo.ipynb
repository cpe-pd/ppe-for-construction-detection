{
  "cells": [
    {
      "cell_type": "markdown",
      "metadata": {
        "id": "lHqgIECTpT2v"
      },
      "source": [
        "# Project Design - Detection Demonstration\n"
      ]
    },
    {
      "cell_type": "code",
      "execution_count": null,
      "metadata": {
        "id": "Qd9Q_7Cgo7Y7"
      },
      "outputs": [],
      "source": [
        "# Mout your Google Drive to this notebook\n",
        "from google.colab import drive\n",
        "drive.mount(\"/content/drive/\", force_remount=True)"
      ]
    },
    {
      "cell_type": "code",
      "execution_count": null,
      "metadata": {
        "id": "1a0Ws6iVpGti"
      },
      "outputs": [],
      "source": [
        "%cd \"/content/drive/MyDrive\""
      ]
    },
    {
      "cell_type": "code",
      "execution_count": null,
      "metadata": {
        "id": "5nw-VfkNYu0H"
      },
      "outputs": [],
      "source": [
        "!rm -rf ./detection"
      ]
    },
    {
      "cell_type": "code",
      "execution_count": null,
      "metadata": {
        "id": "NBC9hpdJ8xGQ"
      },
      "outputs": [],
      "source": [
        "!mkdir -p ./detection"
      ]
    },
    {
      "cell_type": "code",
      "execution_count": null,
      "metadata": {
        "id": "my1rvIJ1p0sK"
      },
      "outputs": [],
      "source": [
        "!git clone https://<username>:<token>@github.com/cpe-pd/rpi-camera.git ./detection/rpi-camera"
      ]
    },
    {
      "cell_type": "code",
      "execution_count": null,
      "metadata": {
        "id": "YURbhKJW9B_u"
      },
      "outputs": [],
      "source": [
        "!git clone https://github.com/WongKinYiu/yolor.git ./detection/rpi-camera/yolor"
      ]
    },
    {
      "cell_type": "code",
      "execution_count": null,
      "metadata": {
        "id": "Zu5z85EBz1JQ"
      },
      "outputs": [],
      "source": [
        "!mkdir -p ./detection/sample"
      ]
    },
    {
      "cell_type": "code",
      "execution_count": null,
      "metadata": {
        "colab": {
          "background_save": true
        },
        "id": "Kiwd85YbsCjw"
      },
      "outputs": [],
      "source": [
        "# Put images in the ./detection/sample"
      ]
    },
    {
      "cell_type": "code",
      "execution_count": null,
      "metadata": {
        "id": "wViN1z2MHDiY"
      },
      "outputs": [],
      "source": [
        "!pip install -r ./detection/rpi-camera/yolor/requirements.txt"
      ]
    },
    {
      "cell_type": "code",
      "execution_count": null,
      "metadata": {
        "id": "S3pyL-aDHSF1"
      },
      "outputs": [],
      "source": [
        "!pip install face_recognition"
      ]
    },
    {
      "cell_type": "code",
      "execution_count": null,
      "metadata": {
        "id": "iJ9zAQbzISD0"
      },
      "outputs": [],
      "source": [
        "!pip install paho-mqtt"
      ]
    },
    {
      "cell_type": "code",
      "execution_count": null,
      "metadata": {
        "id": "IPGT2iHyuRJZ"
      },
      "outputs": [],
      "source": [
        "!pip install gdown"
      ]
    },
    {
      "cell_type": "code",
      "execution_count": null,
      "metadata": {
        "id": "slG6Ayy1Hzw8"
      },
      "outputs": [],
      "source": [
        "%cd ./detection/rpi-camera"
      ]
    },
    {
      "cell_type": "code",
      "execution_count": null,
      "metadata": {
        "id": "vVeEe2imuZ5x"
      },
      "outputs": [],
      "source": [
        "%cd data"
      ]
    },
    {
      "cell_type": "code",
      "execution_count": null,
      "metadata": {
        "id": "tdHpcWPHvAeL"
      },
      "outputs": [],
      "source": [
        "!gdown 1-6HScC2uanGPQd3BDOPj84DE3yyxEand"
      ]
    },
    {
      "cell_type": "code",
      "execution_count": null,
      "metadata": {
        "id": "Q_2cqXs0v2zg"
      },
      "outputs": [],
      "source": [
        "%cd .."
      ]
    },
    {
      "cell_type": "code",
      "execution_count": null,
      "metadata": {
        "id": "S2-6PLkwH47g"
      },
      "outputs": [],
      "source": [
        "!chmod +x ./scripts/linux/install.sh"
      ]
    },
    {
      "cell_type": "code",
      "execution_count": null,
      "metadata": {
        "id": "YYUvrfVRIKt9"
      },
      "outputs": [],
      "source": [
        "!./scripts/linux/install.sh"
      ]
    },
    {
      "cell_type": "code",
      "execution_count": null,
      "metadata": {
        "id": "8c1T8l5fIgK8"
      },
      "outputs": [],
      "source": [
        "from google.colab.patches import cv2_imshow\n",
        "from yolor.utils.datasets import letterbox\n",
        "from configparser import ConfigParser\n",
        "from src.detection import Detection\n",
        "from src.utils import checkLatestWeights\n",
        "from base64 import b64encode, b64decode\n",
        "import numpy as np\n",
        "import cv2, os, torch, glob"
      ]
    },
    {
      "cell_type": "code",
      "execution_count": null,
      "metadata": {
        "id": "RIO7Yv1oKWeE"
      },
      "outputs": [],
      "source": [
        "def newDimensionAndRGBFormat(image: np.ndarray) -> np.ndarray:\n",
        "  result = image.copy()\n",
        "  result = letterbox(result, auto=True)[0]\n",
        "  result = np.expand_dims(result, axis=0)\n",
        "  result = result.transpose(0, 3, 1, 2)\n",
        "  return result\n",
        "  \n",
        "def readImage(image_file: str) -> np.ndarray:\n",
        "  if not os.path.exists(image_file):\n",
        "    raise Exception(f\"[ERROR] '{image_file}' does not exist\")\n",
        "  image = cv2.imread(image_file)\n",
        "  return image\n",
        "\n",
        "def detectPPE(det: Detection, image_file: str):\n",
        "  image = readImage(image_file)\n",
        "  rgb_image = newDimensionAndRGBFormat(image)\n",
        "  result = det.detect(rgb_image, image)\n",
        "  return result\n",
        "\n",
        "def decodeEncodedImage(encodedStr: str):\n",
        "  buffer = b64decode(encodedStr)\n",
        "  npimg = np.frombuffer(buffer, dtype=np.uint8)\n",
        "  image = cv2.imdecode(npimg, 1)\n",
        "  image = cv2.resize(image, (800, 800), interpolation=cv2.INTER_NEAREST)\n",
        "  return image"
      ]
    },
    {
      "cell_type": "code",
      "execution_count": null,
      "metadata": {
        "id": "LE9KPcbXInIJ"
      },
      "outputs": [],
      "source": [
        "checkLatestWeights()\n",
        "cfg = ConfigParser()\n",
        "cfg.read(\"./cfg/app.cfg\")\n",
        "det = Detection(cfg)"
      ]
    },
    {
      "cell_type": "code",
      "execution_count": null,
      "metadata": {
        "id": "rhA2WWd4Pdq7"
      },
      "outputs": [],
      "source": [
        "img_files = glob.glob(os.path.join(\"..\", \"sample\", \"*\"))"
      ]
    },
    {
      "cell_type": "code",
      "execution_count": null,
      "metadata": {
        "id": "YxoYMPqKRkQY"
      },
      "outputs": [],
      "source": [
        "with torch.no_grad():\n",
        "  for img_file in img_files:\n",
        "    try:\n",
        "      result = detectPPE(det, img_file)\n",
        "      image = decodeEncodedImage(result[\"image\"])\n",
        "      cv2_imshow(image)\n",
        "    except Exception as e:\n",
        "      print(f\"{e}\")"
      ]
    }
  ],
  "metadata": {
    "accelerator": "GPU",
    "colab": {
      "provenance": []
    },
    "gpuClass": "standard",
    "kernelspec": {
      "display_name": "Python 3",
      "name": "python3"
    },
    "language_info": {
      "name": "python"
    }
  },
  "nbformat": 4,
  "nbformat_minor": 0
}
