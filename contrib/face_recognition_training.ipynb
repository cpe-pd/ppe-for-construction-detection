{
  "cells": [
    {
      "cell_type": "code",
      "execution_count": null,
      "metadata": {
        "id": "Je4jR8MeDCIR"
      },
      "outputs": [],
      "source": [
        "from google.colab import drive\n",
        "drive.mount(\"/content/drive/\")"
      ]
    },
    {
      "cell_type": "code",
      "execution_count": null,
      "metadata": {
        "id": "IFZ6RedZDOAp"
      },
      "outputs": [],
      "source": [
        "%cd \"/content/drive/MyDrive/Face_Recognition_Practice\""
      ]
    },
    {
      "cell_type": "code",
      "execution_count": null,
      "metadata": {
        "id": "jZ-OehG5DkY4"
      },
      "outputs": [],
      "source": [
        "!pip install face_recognition"
      ]
    },
    {
      "cell_type": "code",
      "source": [
        "import math\n",
        "from sklearn import neighbors\n",
        "import os\n",
        "import os.path\n",
        "import pickle\n",
        "from PIL import Image, ImageDraw\n",
        "import face_recognition\n",
        "from face_recognition.face_recognition_cli import image_files_in_folder\n",
        "\n",
        "ALLOWED_EXTENSIONS = {'png', 'jpg', 'jpeg'}"
      ],
      "metadata": {
        "id": "a-avBfHA3c1M"
      },
      "execution_count": null,
      "outputs": []
    },
    {
      "cell_type": "code",
      "source": [
        "def train(train_dir, model_save_path=None, knn_algo='ball_tree', verbose=False):\n",
        "    X = []\n",
        "    y = []\n",
        "\n",
        "    for class_dir in os.listdir(train_dir):\n",
        "        if not os.path.isdir(os.path.join(train_dir, class_dir)):\n",
        "            continue\n",
        "        for img_path in image_files_in_folder(os.path.join(train_dir, class_dir)):\n",
        "            image = face_recognition.load_image_file(img_path)\n",
        "            face_bounding_boxes = face_recognition.face_locations(image, model=\"cnn\")\n",
        "            if len(face_bounding_boxes) != 1:\n",
        "                if verbose:\n",
        "                    print(\"Image {} not suitable for training: {}\".format(img_path, \"Didn't find a face\" if len(face_bounding_boxes) < 1 else \"Found more than one face\"))\n",
        "            else:\n",
        "                X.append(face_recognition.face_encodings(image, known_face_locations=face_bounding_boxes)[0])\n",
        "                y.append(class_dir)\n",
        "                if verbose:\n",
        "                  print(\"Image {}: Found face\".format(img_path))\n",
        "    n_neighbors = int(round(math.sqrt(len(X))))\n",
        "    print(\"Chose n_neighbors automatically:\", n_neighbors)\n",
        "    knn_clf = neighbors.KNeighborsClassifier(n_neighbors=n_neighbors, algorithm=knn_algo, weights='distance')\n",
        "    knn_clf.fit(X, y)\n",
        "    # Save the trained KNN classifier\n",
        "    if model_save_path is not None:\n",
        "        with open(model_save_path, 'wb') as f:\n",
        "            pickle.dump(knn_clf, f)\n",
        "    return knn_clf"
      ],
      "metadata": {
        "id": "WBknwoyz3ZPA"
      },
      "execution_count": null,
      "outputs": []
    },
    {
      "cell_type": "code",
      "source": [
        "def predict(X_img_path, knn_clf=None, model_path=None, distance_threshold=0.6):\n",
        "    if not os.path.isfile(X_img_path) or os.path.splitext(X_img_path)[1][1:] not in ALLOWED_EXTENSIONS:\n",
        "        raise Exception(\"Invalid image path: {}\".format(X_img_path))\n",
        "    if knn_clf is None and model_path is None:\n",
        "        raise Exception(\"Must supply knn classifier either thourgh knn_clf or model_path\")\n",
        "    if knn_clf is None:\n",
        "        with open(model_path, 'rb') as f:\n",
        "            knn_clf = pickle.load(f)\n",
        "    X_img = face_recognition.load_image_file(X_img_path)\n",
        "    X_face_locations = face_recognition.face_locations(X_img, model=\"cnn\")\n",
        "    if len(X_face_locations) == 0:\n",
        "        return []\n",
        "    faces_encodings = face_recognition.face_encodings(X_img, known_face_locations=X_face_locations)\n",
        "    closest_distances = knn_clf.kneighbors(faces_encodings, n_neighbors=1)\n",
        "    are_matches = [closest_distances[0][i][0] <= distance_threshold for i in range(len(X_face_locations))]\n",
        "    return [(pred, loc) if rec else (-1, loc) for pred, loc, rec in zip(knn_clf.predict(faces_encodings), X_face_locations, are_matches)]"
      ],
      "metadata": {
        "id": "cH5tHoOu4kSC"
      },
      "execution_count": null,
      "outputs": []
    },
    {
      "cell_type": "code",
      "execution_count": null,
      "metadata": {
        "id": "yW5i6eYIUEYN"
      },
      "outputs": [],
      "source": [
        "print(\"Training KNN classifier...\")\n",
        "classifier = train(\"sample\", model_save_path=\"trained_knn_model.clf\")\n",
        "print(\"Training complete!\")"
      ]
    },
    {
      "cell_type": "code",
      "execution_count": null,
      "metadata": {
        "id": "sD03DR8svjhj"
      },
      "outputs": [],
      "source": [
        "import threading\n",
        "\n",
        "names = [\"Person 1\", \"Person 2\", \"Person 3\", \"Person 4\"]\n",
        "\n",
        "# # STEP 2: Using the trained classifier, make predictions for unknown images\n",
        "for image_file in os.listdir(\"unknown\"):\n",
        "    full_file_path = os.path.join(\"unknown\", image_file)\n",
        "\n",
        "    print(\"Looking for faces in {}\".format(image_file))\n",
        "\n",
        "    # Find all people in the image using a trained classifier model\n",
        "    # Note: You can pass in either a classifier file name or a classifier model instance\n",
        "    predictions = predict(full_file_path, model_path=\"trained_knn_model.clf\", distance_threshold=0.4)\n",
        "\n",
        "    # Print results on the console\n",
        "    for index, (top, right, bottom, left) in predictions:\n",
        "      if index != -1:\n",
        "        print(\"- Found {} at ({}, {})\".format(names[int(index)-1], left, top))\n",
        "      else:\n",
        "        print(\"unknwon\")\n",
        "\n",
        "    # Display results overlaid on an image\n",
        "    # show_prediction_labels_on_image(os.path.join(\"unknown\", image_file), predictions)"
      ]
    },
    {
      "cell_type": "code",
      "source": [
        "from google.colab import files\n",
        "files.download(\"trained_knn_model.clf\")"
      ],
      "metadata": {
        "id": "BgmotBVf6DZc"
      },
      "execution_count": null,
      "outputs": []
    }
  ],
  "metadata": {
    "accelerator": "GPU",
    "colab": {
      "provenance": []
    },
    "kernelspec": {
      "display_name": "Python 3",
      "name": "python3"
    },
    "language_info": {
      "name": "python"
    }
  },
  "nbformat": 4,
  "nbformat_minor": 0
}